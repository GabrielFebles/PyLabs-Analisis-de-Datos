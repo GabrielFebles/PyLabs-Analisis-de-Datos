{
 "cells": [
  {
   "cell_type": "markdown",
   "metadata": {},
   "source": [
    "### ESMA 3016\n",
    "### Edgar Acuna\n",
    "### Lab17: Distribucion de la Media Muestral y el Teorema del Limte Central"
   ]
  },
  {
   "cell_type": "code",
   "execution_count": 2,
   "metadata": {
    "collapsed": true
   },
   "outputs": [],
   "source": [
    "from scipy.stats  import binom,expon,norm\n",
    "import numpy as np\n",
    "import matplotlib.pyplot as plt\n",
    "from math import sqrt,factorial,pi\n",
    "%matplotlib inline"
   ]
  },
  {
   "cell_type": "code",
   "execution_count": 3,
   "metadata": {
    "scrolled": false
   },
   "outputs": [],
   "source": [
    "#Distribucion de medias mestrales de una exponencial\n",
    "#Generacion de 1000 muestras de tamano 10 de una exponencial con theta=3\n",
    "#este exponencial tiene media igual a theta=3 , varianza=theta^2=9, desv.est=3\n",
    "muestras1=expon.rvs(scale=3,size=10000)\n",
    "a=muestras1.reshape(10,-1)"
   ]
  },
  {
   "cell_type": "code",
   "execution_count": 4,
   "metadata": {
    "scrolled": true
   },
   "outputs": [
    {
     "data": {
      "text/plain": [
       "(array([   7.,   86.,  219.,  257.,  217.,  123.,   54.,   18.,   13.,    6.]),\n",
       " array([ 0.62770134,  1.23103523,  1.83436913,  2.43770302,  3.04103692,\n",
       "         3.64437081,  4.2477047 ,  4.8510386 ,  5.45437249,  6.05770639,\n",
       "         6.66104028]),\n",
       " <a list of 10 Patch objects>)"
      ]
     },
     "execution_count": 4,
     "metadata": {},
     "output_type": "execute_result"
    },
    {
     "data": {
      "image/png": "[encoded data removed]",
      "text/plain": [
       "<matplotlib.figure.Figure at 0x91d56a0>"
      ]
     },
     "metadata": {},
     "output_type": "display_data"
    }
   ],
   "source": [
    "#Calculando las medias de cada una de las 1000 muestras\n",
    "medias1=a.mean(axis=0)\n",
    "plt.hist(medias1)"
   ]
  },
  {
   "cell_type": "code",
   "execution_count": 5,
   "metadata": {
    "scrolled": true
   },
   "outputs": [
    {
     "data": {
      "text/plain": [
       "(array([  12.,   68.,  164.,  236.,  247.,  145.,   81.,   30.,   14.,    3.]),\n",
       " array([ 1.23536728,  1.6635367 ,  2.09170611,  2.51987552,  2.94804493,\n",
       "         3.37621434,  3.80438376,  4.23255317,  4.66072258,  5.08889199,\n",
       "         5.5170614 ]),\n",
       " <a list of 10 Patch objects>)"
      ]
     },
     "execution_count": 5,
     "metadata": {},
     "output_type": "execute_result"
    },
    {
     "data": {
      "image/png": "[encoded data removed]",
      "text/plain": [
       "<matplotlib.figure.Figure at 0x96cfbe0>"
      ]
     },
     "metadata": {},
     "output_type": "display_data"
    }
   ],
   "source": [
    "#Generacion de 1000 muestras de tamano 20 de una exponencial con theta=3\n",
    "muestras2=expon.rvs(scale=3,size=20000)\n",
    "a=muestras2.reshape(20,-1)\n",
    "#Calculando las medias de cada una de las 1000 muestras\n",
    "medias2=a.mean(axis=0)\n",
    "plt.hist(medias2)"
   ]
  },
  {
   "cell_type": "code",
   "execution_count": 6,
   "metadata": {},
   "outputs": [
    {
     "data": {
      "text/plain": [
       "(array([   9.,   34.,  116.,  209.,  260.,  194.,  110.,   50.,   14.,    4.]),\n",
       " array([ 1.75022336,  2.0243565 ,  2.29848964,  2.57262278,  2.84675592,\n",
       "         3.12088906,  3.3950222 ,  3.66915534,  3.94328849,  4.21742163,\n",
       "         4.49155477]),\n",
       " <a list of 10 Patch objects>)"
      ]
     },
     "execution_count": 6,
     "metadata": {},
     "output_type": "execute_result"
    },
    {
     "data": {
      "image/png": "[encoded data removed]",
      "text/plain": [
       "<matplotlib.figure.Figure at 0x97a1a90>"
      ]
     },
     "metadata": {},
     "output_type": "display_data"
    }
   ],
   "source": [
    "#Generacion de 1000 muestras de tamano 50 de una exponencial con theta=3\n",
    "muestras3=expon.rvs(scale=3,size=50000)\n",
    "a=muestras3.reshape(50,-1)\n",
    "#Calculando las medias de cada una de las 1000 muestras\n",
    "medias3=a.mean(axis=0)\n",
    "plt.hist(medias3)"
   ]
  },
  {
   "cell_type": "code",
   "execution_count": 7,
   "metadata": {
    "scrolled": true
   },
   "outputs": [
    {
     "data": {
      "text/plain": [
       "(array([   7.,   34.,  118.,  180.,  257.,  197.,  125.,   59.,   21.,    2.]),\n",
       " array([ 2.12350668,  2.31278884,  2.50207101,  2.69135317,  2.88063533,\n",
       "         3.0699175 ,  3.25919966,  3.44848182,  3.63776399,  3.82704615,\n",
       "         4.01632831]),\n",
       " <a list of 10 Patch objects>)"
      ]
     },
     "execution_count": 7,
     "metadata": {},
     "output_type": "execute_result"
    },
    {
     "data": {
      "image/png": "[encoded data removed]",
      "text/plain": [
       "<matplotlib.figure.Figure at 0x5ccc5f8>"
      ]
     },
     "metadata": {},
     "output_type": "display_data"
    }
   ],
   "source": [
    "#Generacion de 1000 muestras de tamano 100 de una exponencial con theta=3\n",
    "muestras4=expon.rvs(scale=3,size=100000)\n",
    "a=muestras4.reshape(100,-1)\n",
    "#Calculando las medias de cada una de las 1000 muestras\n",
    "medias4=a.mean(axis=0)\n",
    "plt.hist(medias4)"
   ]
  },
  {
   "cell_type": "code",
   "execution_count": 8,
   "metadata": {},
   "outputs": [
    {
     "data": {
      "text/plain": [
       "3.0109730524934677"
      ]
     },
     "execution_count": 8,
     "metadata": {},
     "output_type": "execute_result"
    }
   ],
   "source": [
    "#Calculando la media de las medias\n",
    "np.mean(medias4)\n",
    "#Notar que la media de las medias esta cerca de mu=3 \n"
   ]
  },
  {
   "cell_type": "code",
   "execution_count": 9,
   "metadata": {},
   "outputs": [
    {
     "data": {
      "text/plain": [
       "0.30353816275822015"
      ]
     },
     "execution_count": 9,
     "metadata": {},
     "output_type": "execute_result"
    }
   ],
   "source": [
    "np.std(medias4)\n",
    "#Notar que la desviacion estandar de las medias esta cerca 3/sqrt(100)=.3\n",
    "\n",
    "#Teorema del Limite Central: De Moivre(1738), Laplace(1812), Liapunov(1902)\n",
    "#La media de muestras aleatorias de tamano n extraida de una distribucion que tiene media mu\n",
    "#y varianza sigma^2 se distribuyen aproximadamente en forma normal con media mu  y varianza sigma^2/n\n",
    "#Ejemplo: La Poisson tiene media  y varianza igual a lambda. Entonces la media de muestras de tamano\n",
    "# n se distribuiran aproximadamente con media lambda y varianza lambda/n  \n"
   ]
  }
 ],
 "metadata": {
  "kernelspec": {
   "display_name": "Python 2",
   "language": "python",
   "name": "python2"
  },
  "language_info": {
   "codemirror_mode": {
    "name": "ipython",
    "version": 2
   },
   "file_extension": ".py",
   "mimetype": "text/x-python",
   "name": "python",
   "nbconvert_exporter": "python",
   "pygments_lexer": "ipython2",
   "version": "2.7.13"
  }
 },
 "nbformat": 4,
 "nbformat_minor": 2
}
