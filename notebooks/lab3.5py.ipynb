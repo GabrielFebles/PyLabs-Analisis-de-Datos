{
 "cells": [
  {
   "cell_type": "markdown",
   "metadata": {},
   "source": [
    "## ESMA 3016\n",
    "## Edgar Acuna\n",
    "### Graficas en Python usando cuatro librerias: ggplot, plotly, seaborn y bokeh (Python 2)"
   ]
  },
  {
   "cell_type": "code",
   "execution_count": 2,
   "metadata": {
    "collapsed": true
   },
   "outputs": [],
   "source": [
    "import pandas as pd\n",
    "import numpy as np\n",
    "from matplotlib import pyplot as plt\n",
    "import seaborn as sns\n",
    "import bokeh"
   ]
  },
  {
   "cell_type": "code",
   "execution_count": 3,
   "metadata": {},
   "outputs": [
    {
     "name": "stderr",
     "output_type": "stream",
     "text": [
      "C:\\Users\\edgar2017\\Anaconda2\\envs\\ipykernel_py2\\lib\\site-packages\\ggplot\\utils.py:66: FutureWarning: pandas.tslib is deprecated and will be removed in a future version.\n",
      "You can access Timestamp as pandas.Timestamp\n",
      "  pd.tslib.Timestamp,\n",
      "C:\\Users\\edgar2017\\Anaconda2\\envs\\ipykernel_py2\\lib\\site-packages\\ggplot\\stats\\smoothers.py:4: FutureWarning: The pandas.lib module is deprecated and will be removed in a future version. These are private functions and can be accessed from pandas._libs.lib instead\n",
      "  from pandas.lib import Timestamp\n",
      "C:\\Users\\edgar2017\\Anaconda2\\envs\\ipykernel_py2\\lib\\site-packages\\statsmodels\\compat\\pandas.py:56: FutureWarning: The pandas.core.datetools module is deprecated and will be removed in a future version. Please use the pandas.tseries module instead.\n",
      "  from pandas.core import datetools\n"
     ]
    }
   ],
   "source": [
    "#llamando a ggplot\n",
    "import ggplot"
   ]
  },
  {
   "cell_type": "code",
   "execution_count": 4,
   "metadata": {
    "collapsed": true
   },
   "outputs": [],
   "source": [
    "# Otra forma de llamar a ggplot\n",
    "from ggplot import *"
   ]
  },
  {
   "cell_type": "code",
   "execution_count": 21,
   "metadata": {
    "collapsed": true
   },
   "outputs": [],
   "source": [
    "#Funcion magica para que la grafica de matplotlib salga en la pantalla\n",
    "%matplotlib inline"
   ]
  },
  {
   "cell_type": "code",
   "execution_count": 6,
   "metadata": {
    "collapsed": true
   },
   "outputs": [],
   "source": [
    "#Leyendo los datos\n",
    "datos1=pd.read_csv(\"http://academic.uprm.edu/eacuna/clase97.txt\",sep=\" \")"
   ]
  },
  {
   "cell_type": "code",
   "execution_count": 7,
   "metadata": {},
   "outputs": [
    {
     "data": {
      "text/html": [
       "<div>\n",
       "<style>\n",
       "    .dataframe thead tr:only-child th {\n",
       "        text-align: right;\n",
       "    }\n",
       "\n",
       "    .dataframe thead th {\n",
       "        text-align: left;\n",
       "    }\n",
       "\n",
       "    .dataframe tbody tr th {\n",
       "        vertical-align: top;\n",
       "    }\n",
       "</style>\n",
       "<table border=\"1\" class=\"dataframe\">\n",
       "  <thead>\n",
       "    <tr style=\"text-align: right;\">\n",
       "      <th></th>\n",
       "      <th>edad</th>\n",
       "      <th>sexo</th>\n",
       "      <th>escuela</th>\n",
       "      <th>programa</th>\n",
       "      <th>creditos</th>\n",
       "      <th>gpa</th>\n",
       "      <th>familia</th>\n",
       "      <th>hestud</th>\n",
       "      <th>htv</th>\n",
       "    </tr>\n",
       "  </thead>\n",
       "  <tbody>\n",
       "    <tr>\n",
       "      <th>0</th>\n",
       "      <td>21</td>\n",
       "      <td>f</td>\n",
       "      <td>publ</td>\n",
       "      <td>biol</td>\n",
       "      <td>119</td>\n",
       "      <td>3.60</td>\n",
       "      <td>3</td>\n",
       "      <td>35</td>\n",
       "      <td>10</td>\n",
       "    </tr>\n",
       "    <tr>\n",
       "      <th>1</th>\n",
       "      <td>18</td>\n",
       "      <td>f</td>\n",
       "      <td>priv</td>\n",
       "      <td>mbio</td>\n",
       "      <td>15</td>\n",
       "      <td>3.60</td>\n",
       "      <td>3</td>\n",
       "      <td>30</td>\n",
       "      <td>10</td>\n",
       "    </tr>\n",
       "    <tr>\n",
       "      <th>2</th>\n",
       "      <td>19</td>\n",
       "      <td>f</td>\n",
       "      <td>priv</td>\n",
       "      <td>biot</td>\n",
       "      <td>73</td>\n",
       "      <td>3.61</td>\n",
       "      <td>5</td>\n",
       "      <td>5</td>\n",
       "      <td>7</td>\n",
       "    </tr>\n",
       "    <tr>\n",
       "      <th>3</th>\n",
       "      <td>20</td>\n",
       "      <td>f</td>\n",
       "      <td>priv</td>\n",
       "      <td>mbio</td>\n",
       "      <td>*</td>\n",
       "      <td>2.38</td>\n",
       "      <td>3</td>\n",
       "      <td>14</td>\n",
       "      <td>3</td>\n",
       "    </tr>\n",
       "    <tr>\n",
       "      <th>4</th>\n",
       "      <td>21</td>\n",
       "      <td>m</td>\n",
       "      <td>publ</td>\n",
       "      <td>pmed</td>\n",
       "      <td>114</td>\n",
       "      <td>3.15</td>\n",
       "      <td>2</td>\n",
       "      <td>25</td>\n",
       "      <td>25</td>\n",
       "    </tr>\n",
       "  </tbody>\n",
       "</table>\n",
       "</div>"
      ],
      "text/plain": [
       "   edad sexo escuela programa creditos   gpa  familia  hestud  htv\n",
       "0    21    f    publ     biol      119  3.60        3      35   10\n",
       "1    18    f    priv     mbio       15  3.60        3      30   10\n",
       "2    19    f    priv     biot       73  3.61        5       5    7\n",
       "3    20    f    priv     mbio        *  2.38        3      14    3\n",
       "4    21    m    publ     pmed      114  3.15        2      25   25"
      ]
     },
     "execution_count": 7,
     "metadata": {},
     "output_type": "execute_result"
    }
   ],
   "source": [
    "datos1.head()"
   ]
  },
  {
   "cell_type": "code",
   "execution_count": 8,
   "metadata": {},
   "outputs": [
    {
     "data": {
      "image/png": "[encoded data removed]",
      "text/plain": [
       "<matplotlib.figure.Figure at 0xecbd9e8>"
      ]
     },
     "metadata": {},
     "output_type": "display_data"
    },
    {
     "data": {
      "text/plain": [
       "<ggplot: (15514975)>"
      ]
     },
     "execution_count": 8,
     "metadata": {},
     "output_type": "execute_result"
    }
   ],
   "source": [
    "# Histograma de gpa usando ggplot\n",
    "p=ggplot(aes(x='gpa'),data=datos1)\n",
    "p+geom_histogram(binwidth=.35)"
   ]
  },
  {
   "cell_type": "markdown",
   "metadata": {},
   "source": [
    "Notar que en lugar de 5 intervalos ggplot muestra 10 intervalos"
   ]
  },
  {
   "cell_type": "code",
   "execution_count": 9,
   "metadata": {},
   "outputs": [
    {
     "data": {
      "image/png": "[encoded data removed]",
      "text/plain": [
       "<matplotlib.figure.Figure at 0xecbd438>"
      ]
     },
     "metadata": {},
     "output_type": "display_data"
    },
    {
     "data": {
      "text/plain": [
       "<ggplot: (15410152)>"
      ]
     },
     "execution_count": 9,
     "metadata": {},
     "output_type": "execute_result"
    }
   ],
   "source": [
    "# Histograma de gpa cpn 8 intervalos usando ggplot\n",
    "p=ggplot(aes(x = 'mpg'),data=mtcars) \n",
    "p=p+geom_histogram(colour = \"black\" , fill = \"red\" , bins = 8)\n",
    "p"
   ]
  },
  {
   "cell_type": "markdown",
   "metadata": {},
   "source": [
    "Nuevamente notar de que a pesar que se le pide 8 intervalos, ggplot muestra 8 intervalos. La funcion parece estar con errores aun"
   ]
  },
  {
   "cell_type": "code",
   "execution_count": 10,
   "metadata": {},
   "outputs": [
    {
     "data": {
      "text/plain": [
       "<matplotlib.axes._subplots.AxesSubplot at 0x11c7c710>"
      ]
     },
     "execution_count": 10,
     "metadata": {},
     "output_type": "execute_result"
    },
    {
     "data": {
      "image/png": "[encoded data removed]",
      "text/plain": [
       "<matplotlib.figure.Figure at 0xd38b6d8>"
      ]
     },
     "metadata": {},
     "output_type": "display_data"
    }
   ],
   "source": [
    "#Histogram de gpa usando seaborn\n",
    "sns.distplot(datos1['gpa'],kde=False, color=\"blue\")"
   ]
  },
  {
   "cell_type": "code",
   "execution_count": 11,
   "metadata": {},
   "outputs": [
    {
     "data": {
      "text/plain": [
       "<matplotlib.axes._subplots.AxesSubplot at 0x11f3ba58>"
      ]
     },
     "execution_count": 11,
     "metadata": {},
     "output_type": "execute_result"
    },
    {
     "data": {
      "image/png": "[encoded data removed]",
      "text/plain": [
       "<matplotlib.figure.Figure at 0x11f52860>"
      ]
     },
     "metadata": {},
     "output_type": "display_data"
    }
   ],
   "source": [
    "#otra vez el histograma en seaborn usando 5 intervalos\n",
    "sns.distplot(datos1['gpa'],bins=5, kde=False, color=\"cyan\")"
   ]
  },
  {
   "cell_type": "code",
   "execution_count": 12,
   "metadata": {},
   "outputs": [
    {
     "data": {
      "text/html": [
       "<script>requirejs.config({paths: { 'plotly': ['https://cdn.plot.ly/plotly-latest.min']},});if(!window.Plotly) {{require(['plotly'],function(plotly) {window.Plotly=plotly;});}}</script>"
      ],
      "text/vnd.plotly.v1+html": [
       "<script>requirejs.config({paths: { 'plotly': ['https://cdn.plot.ly/plotly-latest.min']},});if(!window.Plotly) {{require(['plotly'],function(plotly) {window.Plotly=plotly;});}}</script>"
      ]
     },
     "metadata": {},
     "output_type": "display_data"
    },
    {
     "data": {
      "application/vnd.plotly.v1+json": {
       "data": [
        {
         "type": "histogram",
         "x": [
          3.6,
          3.6,
          3.61,
          2.38,
          3.15,
          3.17,
          2.15,
          3.86,
          3.19,
          3.66,
          3.35,
          3.17,
          3.23,
          3.36,
          2.88,
          2.8,
          2.5,
          3.46,
          2.74,
          3.07,
          2.2,
          2.39,
          3.05,
          3.55,
          3.03,
          3.61,
          2.73,
          3.54
         ]
        }
       ],
       "layout": {}
      },
      "text/html": [
       "<div id=\"1bc362eb-854a-4349-9de6-f95120b475e0\" style=\"height: 525px; width: 100%;\" class=\"plotly-graph-div\"></div><script type=\"text/javascript\">require([\"plotly\"], function(Plotly) { window.PLOTLYENV=window.PLOTLYENV || {};window.PLOTLYENV.BASE_URL=\"https://plot.ly\";Plotly.newPlot(\"1bc362eb-854a-4349-9de6-f95120b475e0\", [{\"x\": [3.6, 3.6, 3.61, 2.38, 3.15, 3.17, 2.15, 3.86, 3.19, 3.66, 3.35, 3.17, 3.23, 3.36, 2.88, 2.8, 2.5, 3.46, 2.74, 3.07, 2.2, 2.39, 3.05, 3.55, 3.03, 3.61, 2.73, 3.54], \"type\": \"histogram\"}], {}, {\"linkText\": \"Export to plot.ly\", \"showLink\": true})});</script>"
      ],
      "text/vnd.plotly.v1+html": [
       "<div id=\"1bc362eb-854a-4349-9de6-f95120b475e0\" style=\"height: 525px; width: 100%;\" class=\"plotly-graph-div\"></div><script type=\"text/javascript\">require([\"plotly\"], function(Plotly) { window.PLOTLYENV=window.PLOTLYENV || {};window.PLOTLYENV.BASE_URL=\"https://plot.ly\";Plotly.newPlot(\"1bc362eb-854a-4349-9de6-f95120b475e0\", [{\"x\": [3.6, 3.6, 3.61, 2.38, 3.15, 3.17, 2.15, 3.86, 3.19, 3.66, 3.35, 3.17, 3.23, 3.36, 2.88, 2.8, 2.5, 3.46, 2.74, 3.07, 2.2, 2.39, 3.05, 3.55, 3.03, 3.61, 2.73, 3.54], \"type\": \"histogram\"}], {}, {\"linkText\": \"Export to plot.ly\", \"showLink\": true})});</script>"
      ]
     },
     "metadata": {},
     "output_type": "display_data"
    }
   ],
   "source": [
    "#Histograma usando plotly\n",
    "import plotly \n",
    "import plotly.graph_objs as go\n",
    "plotly.offline.init_notebook_mode(connected=True)\n",
    "\n",
    "x = datos1['gpa']\n",
    "data = [go.Histogram(x=x)]\n",
    "\n",
    "plotly.offline.iplot(data, filename='histograma en plotly')"
   ]
  },
  {
   "cell_type": "markdown",
   "metadata": {},
   "source": [
    "Comentario: Me da la impresion de que la libreria mas estable es seaborn.\n",
    "Lo unico malo es que no hace pie charts"
   ]
  },
  {
   "cell_type": "code",
   "execution_count": 17,
   "metadata": {},
   "outputs": [
    {
     "data": {
      "text/html": [
       "<div>\n",
       "<style>\n",
       "    .dataframe thead tr:only-child th {\n",
       "        text-align: right;\n",
       "    }\n",
       "\n",
       "    .dataframe thead th {\n",
       "        text-align: left;\n",
       "    }\n",
       "\n",
       "    .dataframe tbody tr th {\n",
       "        vertical-align: top;\n",
       "    }\n",
       "</style>\n",
       "<table border=\"1\" class=\"dataframe\">\n",
       "  <thead>\n",
       "    <tr style=\"text-align: right;\">\n",
       "      <th></th>\n",
       "      <th>name</th>\n",
       "      <th>mpg</th>\n",
       "      <th>cyl</th>\n",
       "      <th>disp</th>\n",
       "      <th>hp</th>\n",
       "      <th>drat</th>\n",
       "      <th>wt</th>\n",
       "      <th>qsec</th>\n",
       "      <th>vs</th>\n",
       "      <th>am</th>\n",
       "      <th>gear</th>\n",
       "      <th>carb</th>\n",
       "    </tr>\n",
       "  </thead>\n",
       "  <tbody>\n",
       "    <tr>\n",
       "      <th>0</th>\n",
       "      <td>Mazda RX4</td>\n",
       "      <td>21.0</td>\n",
       "      <td>6</td>\n",
       "      <td>160.0</td>\n",
       "      <td>110</td>\n",
       "      <td>3.90</td>\n",
       "      <td>2.620</td>\n",
       "      <td>16.46</td>\n",
       "      <td>0</td>\n",
       "      <td>1</td>\n",
       "      <td>4</td>\n",
       "      <td>4</td>\n",
       "    </tr>\n",
       "    <tr>\n",
       "      <th>1</th>\n",
       "      <td>Mazda RX4 Wag</td>\n",
       "      <td>21.0</td>\n",
       "      <td>6</td>\n",
       "      <td>160.0</td>\n",
       "      <td>110</td>\n",
       "      <td>3.90</td>\n",
       "      <td>2.875</td>\n",
       "      <td>17.02</td>\n",
       "      <td>0</td>\n",
       "      <td>1</td>\n",
       "      <td>4</td>\n",
       "      <td>4</td>\n",
       "    </tr>\n",
       "    <tr>\n",
       "      <th>2</th>\n",
       "      <td>Datsun 710</td>\n",
       "      <td>22.8</td>\n",
       "      <td>4</td>\n",
       "      <td>108.0</td>\n",
       "      <td>93</td>\n",
       "      <td>3.85</td>\n",
       "      <td>2.320</td>\n",
       "      <td>18.61</td>\n",
       "      <td>1</td>\n",
       "      <td>1</td>\n",
       "      <td>4</td>\n",
       "      <td>1</td>\n",
       "    </tr>\n",
       "    <tr>\n",
       "      <th>3</th>\n",
       "      <td>Hornet 4 Drive</td>\n",
       "      <td>21.4</td>\n",
       "      <td>6</td>\n",
       "      <td>258.0</td>\n",
       "      <td>110</td>\n",
       "      <td>3.08</td>\n",
       "      <td>3.215</td>\n",
       "      <td>19.44</td>\n",
       "      <td>1</td>\n",
       "      <td>0</td>\n",
       "      <td>3</td>\n",
       "      <td>1</td>\n",
       "    </tr>\n",
       "    <tr>\n",
       "      <th>4</th>\n",
       "      <td>Hornet Sportabout</td>\n",
       "      <td>18.7</td>\n",
       "      <td>8</td>\n",
       "      <td>360.0</td>\n",
       "      <td>175</td>\n",
       "      <td>3.15</td>\n",
       "      <td>3.440</td>\n",
       "      <td>17.02</td>\n",
       "      <td>0</td>\n",
       "      <td>0</td>\n",
       "      <td>3</td>\n",
       "      <td>2</td>\n",
       "    </tr>\n",
       "  </tbody>\n",
       "</table>\n",
       "</div>"
      ],
      "text/plain": [
       "                name   mpg  cyl   disp   hp  drat     wt   qsec  vs  am  gear  \\\n",
       "0          Mazda RX4  21.0    6  160.0  110  3.90  2.620  16.46   0   1     4   \n",
       "1      Mazda RX4 Wag  21.0    6  160.0  110  3.90  2.875  17.02   0   1     4   \n",
       "2         Datsun 710  22.8    4  108.0   93  3.85  2.320  18.61   1   1     4   \n",
       "3     Hornet 4 Drive  21.4    6  258.0  110  3.08  3.215  19.44   1   0     3   \n",
       "4  Hornet Sportabout  18.7    8  360.0  175  3.15  3.440  17.02   0   0     3   \n",
       "\n",
       "   carb  \n",
       "0     4  \n",
       "1     4  \n",
       "2     1  \n",
       "3     1  \n",
       "4     2  "
      ]
     },
     "execution_count": 17,
     "metadata": {},
     "output_type": "execute_result"
    }
   ],
   "source": [
    "# haciendo un segundo ejemplo con el cojunto de dato mtcars que viene dentro de pandas\n",
    "mtcars.head()"
   ]
  },
  {
   "cell_type": "code",
   "execution_count": 18,
   "metadata": {},
   "outputs": [
    {
     "data": {
      "text/plain": [
       "<matplotlib.axes._subplots.AxesSubplot at 0x129330f0>"
      ]
     },
     "execution_count": 18,
     "metadata": {},
     "output_type": "execute_result"
    },
    {
     "data": {
      "image/png": "[encoded data removed]",
      "text/plain": [
       "<matplotlib.figure.Figure at 0x1284d8d0>"
      ]
     },
     "metadata": {},
     "output_type": "display_data"
    }
   ],
   "source": [
    "#Haciendo el histograma cpn seaborn\n",
    "sns.distplot(mtcars['mpg'],kde=False)"
   ]
  },
  {
   "cell_type": "code",
   "execution_count": 19,
   "metadata": {},
   "outputs": [
    {
     "data": {
      "image/png": "[encoded data removed]",
      "text/plain": [
       "<matplotlib.figure.Figure at 0x10bc8f28>"
      ]
     },
     "metadata": {},
     "output_type": "display_data"
    },
    {
     "data": {
      "text/plain": [
       "<ggplot: (17553808)>"
      ]
     },
     "execution_count": 19,
     "metadata": {},
     "output_type": "execute_result"
    }
   ],
   "source": [
    "#Haciendo el histograma con ggplopt\n",
    "p = ggplot(aes(x='mpg'), data=mtcars)\n",
    "p+geom_histogram(fill=\"green\")"
   ]
  },
  {
   "cell_type": "code",
   "execution_count": 22,
   "metadata": {},
   "outputs": [
    {
     "data": {
      "text/html": [
       "\n",
       "    <div class=\"bk-root\">\n",
       "        <a href=\"http://bokeh.pydata.org\" target=\"_blank\" class=\"bk-logo bk-logo-small bk-logo-notebook\"></a>\n",
       "        <span id=\"f09bb99c-cb6f-41f9-916b-3d8ab48aa183\">Loading BokehJS ...</span>\n",
       "    </div>"
      ]
     },
     "metadata": {},
     "output_type": "display_data"
    },
    {
     "data": {
      "application/javascript": [
       "\n",
       "(function(global) {\n",
       "  function now() {\n",
       "    return new Date();\n",
       "  }\n",
       "\n",
       "  var force = true;\n",
       "\n",
       "  if (typeof (window._bokeh_onload_callbacks) === \"undefined\" || force === true) {\n",
       "    window._bokeh_onload_callbacks = [];\n",
       "    window._bokeh_is_loading = undefined;\n",
       "  }\n",
       "\n",
       "\n",
       "  \n",
       "  if (typeof (window._bokeh_timeout) === \"undefined\" || force === true) {\n",
       "    window._bokeh_timeout = Date.now() + 5000;\n",
       "    window._bokeh_failed_load = false;\n",
       "  }\n",
       "\n",
       "  var NB_LOAD_WARNING = {'data': {'text/html':\n",
       "     \"<div style='background-color: #fdd'>\\n\"+\n",
       "     \"<p>\\n\"+\n",
       "     \"BokehJS does not appear to have successfully loaded. If loading BokehJS from CDN, this \\n\"+\n",
       "     \"may be due to a slow or bad network connection. Possible fixes:\\n\"+\n",
       "     \"</p>\\n\"+\n",
       "     \"<ul>\\n\"+\n",
       "     \"<li>re-rerun `output_notebook()` to attempt to load from CDN again, or</li>\\n\"+\n",
       "     \"<li>use INLINE resources instead, as so:</li>\\n\"+\n",
       "     \"</ul>\\n\"+\n",
       "     \"<code>\\n\"+\n",
       "     \"from bokeh.resources import INLINE\\n\"+\n",
       "     \"output_notebook(resources=INLINE)\\n\"+\n",
       "     \"</code>\\n\"+\n",
       "     \"</div>\"}};\n",
       "\n",
       "  function display_loaded() {\n",
       "    if (window.Bokeh !== undefined) {\n",
       "      var el = document.getElementById(\"f09bb99c-cb6f-41f9-916b-3d8ab48aa183\");\n",
       "      el.textContent = \"BokehJS \" + Bokeh.version + \" successfully loaded.\";\n",
       "    } else if (Date.now() < window._bokeh_timeout) {\n",
       "      setTimeout(display_loaded, 100)\n",
       "    }\n",
       "  }\n",
       "\n",
       "  function run_callbacks() {\n",
       "    try {\n",
       "      window._bokeh_onload_callbacks.forEach(function(callback) { callback() });\n",
       "    }\n",
       "    finally {\n",
       "      delete window._bokeh_onload_callbacks\n",
       "    }\n",
       "    console.info(\"Bokeh: all callbacks have finished\");\n",
       "  }\n",
       "\n",
       "  function load_libs(js_urls, callback) {\n",
       "    window._bokeh_onload_callbacks.push(callback);\n",
       "    if (window._bokeh_is_loading > 0) {\n",
       "      console.log(\"Bokeh: BokehJS is being loaded, scheduling callback at\", now());\n",
       "      return null;\n",
       "    }\n",
       "    if (js_urls == null || js_urls.length === 0) {\n",
       "      run_callbacks();\n",
       "      return null;\n",
       "    }\n",
       "    console.log(\"Bokeh: BokehJS not loaded, scheduling load and callback at\", now());\n",
       "    window._bokeh_is_loading = js_urls.length;\n",
       "    for (var i = 0; i < js_urls.length; i++) {\n",
       "      var url = js_urls[i];\n",
       "      var s = document.createElement('script');\n",
       "      s.src = url;\n",
       "      s.async = false;\n",
       "      s.onreadystatechange = s.onload = function() {\n",
       "        window._bokeh_is_loading--;\n",
       "        if (window._bokeh_is_loading === 0) {\n",
       "          console.log(\"Bokeh: all BokehJS libraries loaded\");\n",
       "          run_callbacks()\n",
       "        }\n",
       "      };\n",
       "      s.onerror = function() {\n",
       "        console.warn(\"failed to load library \" + url);\n",
       "      };\n",
       "      console.log(\"Bokeh: injecting script tag for BokehJS library: \", url);\n",
       "      document.getElementsByTagName(\"head\")[0].appendChild(s);\n",
       "    }\n",
       "  };var element = document.getElementById(\"f09bb99c-cb6f-41f9-916b-3d8ab48aa183\");\n",
       "  if (element == null) {\n",
       "    console.log(\"Bokeh: ERROR: autoload.js configured with elementid 'f09bb99c-cb6f-41f9-916b-3d8ab48aa183' but no matching script tag was found. \")\n",
       "    return false;\n",
       "  }\n",
       "\n",
       "  var js_urls = [\"https://cdn.pydata.org/bokeh/release/bokeh-0.12.6.min.js\", \"https://cdn.pydata.org/bokeh/release/bokeh-widgets-0.12.6.min.js\"];\n",
       "\n",
       "  var inline_js = [\n",
       "    function(Bokeh) {\n",
       "      Bokeh.set_log_level(\"info\");\n",
       "    },\n",
       "    \n",
       "    function(Bokeh) {\n",
       "      \n",
       "    },\n",
       "    \n",
       "    function(Bokeh) {\n",
       "      \n",
       "      document.getElementById(\"f09bb99c-cb6f-41f9-916b-3d8ab48aa183\").textContent = \"BokehJS is loading...\";\n",
       "    },\n",
       "    function(Bokeh) {\n",
       "      console.log(\"Bokeh: injecting CSS: https://cdn.pydata.org/bokeh/release/bokeh-0.12.6.min.css\");\n",
       "      Bokeh.embed.inject_css(\"https://cdn.pydata.org/bokeh/release/bokeh-0.12.6.min.css\");\n",
       "      console.log(\"Bokeh: injecting CSS: https://cdn.pydata.org/bokeh/release/bokeh-widgets-0.12.6.min.css\");\n",
       "      Bokeh.embed.inject_css(\"https://cdn.pydata.org/bokeh/release/bokeh-widgets-0.12.6.min.css\");\n",
       "    }\n",
       "  ];\n",
       "\n",
       "  function run_inline_js() {\n",
       "    \n",
       "    if ((window.Bokeh !== undefined) || (force === true)) {\n",
       "      for (var i = 0; i < inline_js.length; i++) {\n",
       "        inline_js[i](window.Bokeh);\n",
       "      }if (force === true) {\n",
       "        display_loaded();\n",
       "      }} else if (Date.now() < window._bokeh_timeout) {\n",
       "      setTimeout(run_inline_js, 100);\n",
       "    } else if (!window._bokeh_failed_load) {\n",
       "      console.log(\"Bokeh: BokehJS failed to load within specified timeout.\");\n",
       "      window._bokeh_failed_load = true;\n",
       "    } else if (force !== true) {\n",
       "      var cell = $(document.getElementById(\"f09bb99c-cb6f-41f9-916b-3d8ab48aa183\")).parents('.cell').data().cell;\n",
       "      cell.output_area.append_execute_result(NB_LOAD_WARNING)\n",
       "    }\n",
       "\n",
       "  }\n",
       "\n",
       "  if (window._bokeh_is_loading === 0) {\n",
       "    console.log(\"Bokeh: BokehJS loaded, going straight to plotting\");\n",
       "    run_inline_js();\n",
       "  } else {\n",
       "    load_libs(js_urls, function() {\n",
       "      console.log(\"Bokeh: BokehJS plotting callback run at\", now());\n",
       "      run_inline_js();\n",
       "    });\n",
       "  }\n",
       "}(this));"
      ]
     },
     "metadata": {},
     "output_type": "display_data"
    },
    {
     "data": {
      "text/html": [
       "\n",
       "\n",
       "    <div class=\"bk-root\">\n",
       "        <div class=\"bk-plotdiv\" id=\"2a0fc689-690c-4c43-8128-ea8b630768c6\"></div>\n",
       "    </div>\n",
       "<script type=\"text/javascript\">\n",
       "  \n",
       "  (function(global) {\n",
       "    function now() {\n",
       "      return new Date();\n",
       "    }\n",
       "  \n",
       "    var force = false;\n",
       "  \n",
       "    if (typeof (window._bokeh_onload_callbacks) === \"undefined\" || force === true) {\n",
       "      window._bokeh_onload_callbacks = [];\n",
       "      window._bokeh_is_loading = undefined;\n",
       "    }\n",
       "  \n",
       "  \n",
       "    \n",
       "    if (typeof (window._bokeh_timeout) === \"undefined\" || force === true) {\n",
       "      window._bokeh_timeout = Date.now() + 0;\n",
       "      window._bokeh_failed_load = false;\n",
       "    }\n",
       "  \n",
       "    var NB_LOAD_WARNING = {'data': {'text/html':\n",
       "       \"<div style='background-color: #fdd'>\\n\"+\n",
       "       \"<p>\\n\"+\n",
       "       \"BokehJS does not appear to have successfully loaded. If loading BokehJS from CDN, this \\n\"+\n",
       "       \"may be due to a slow or bad network connection. Possible fixes:\\n\"+\n",
       "       \"</p>\\n\"+\n",
       "       \"<ul>\\n\"+\n",
       "       \"<li>re-rerun `output_notebook()` to attempt to load from CDN again, or</li>\\n\"+\n",
       "       \"<li>use INLINE resources instead, as so:</li>\\n\"+\n",
       "       \"</ul>\\n\"+\n",
       "       \"<code>\\n\"+\n",
       "       \"from bokeh.resources import INLINE\\n\"+\n",
       "       \"output_notebook(resources=INLINE)\\n\"+\n",
       "       \"</code>\\n\"+\n",
       "       \"</div>\"}};\n",
       "  \n",
       "    function display_loaded() {\n",
       "      if (window.Bokeh !== undefined) {\n",
       "        var el = document.getElementById(\"2a0fc689-690c-4c43-8128-ea8b630768c6\");\n",
       "        el.textContent = \"BokehJS \" + Bokeh.version + \" successfully loaded.\";\n",
       "      } else if (Date.now() < window._bokeh_timeout) {\n",
       "        setTimeout(display_loaded, 100)\n",
       "      }\n",
       "    }\n",
       "  \n",
       "    function run_callbacks() {\n",
       "      try {\n",
       "        window._bokeh_onload_callbacks.forEach(function(callback) { callback() });\n",
       "      }\n",
       "      finally {\n",
       "        delete window._bokeh_onload_callbacks\n",
       "      }\n",
       "      console.info(\"Bokeh: all callbacks have finished\");\n",
       "    }\n",
       "  \n",
       "    function load_libs(js_urls, callback) {\n",
       "      window._bokeh_onload_callbacks.push(callback);\n",
       "      if (window._bokeh_is_loading > 0) {\n",
       "        console.log(\"Bokeh: BokehJS is being loaded, scheduling callback at\", now());\n",
       "        return null;\n",
       "      }\n",
       "      if (js_urls == null || js_urls.length === 0) {\n",
       "        run_callbacks();\n",
       "        return null;\n",
       "      }\n",
       "      console.log(\"Bokeh: BokehJS not loaded, scheduling load and callback at\", now());\n",
       "      window._bokeh_is_loading = js_urls.length;\n",
       "      for (var i = 0; i < js_urls.length; i++) {\n",
       "        var url = js_urls[i];\n",
       "        var s = document.createElement('script');\n",
       "        s.src = url;\n",
       "        s.async = false;\n",
       "        s.onreadystatechange = s.onload = function() {\n",
       "          window._bokeh_is_loading--;\n",
       "          if (window._bokeh_is_loading === 0) {\n",
       "            console.log(\"Bokeh: all BokehJS libraries loaded\");\n",
       "            run_callbacks()\n",
       "          }\n",
       "        };\n",
       "        s.onerror = function() {\n",
       "          console.warn(\"failed to load library \" + url);\n",
       "        };\n",
       "        console.log(\"Bokeh: injecting script tag for BokehJS library: \", url);\n",
       "        document.getElementsByTagName(\"head\")[0].appendChild(s);\n",
       "      }\n",
       "    };var element = document.getElementById(\"2a0fc689-690c-4c43-8128-ea8b630768c6\");\n",
       "    if (element == null) {\n",
       "      console.log(\"Bokeh: ERROR: autoload.js configured with elementid '2a0fc689-690c-4c43-8128-ea8b630768c6' but no matching script tag was found. \")\n",
       "      return false;\n",
       "    }\n",
       "  \n",
       "    var js_urls = [];\n",
       "  \n",
       "    var inline_js = [\n",
       "      function(Bokeh) {\n",
       "        (function() {\n",
       "          var fn = function() {\n",
       "            var docs_json = {\"f67c258f-02e1-4c2f-bf7e-78810379b415\":{\"roots\":{\"references\":[{\"attributes\":{\"fill_alpha\":{\"field\":\"fill_alpha\"},\"fill_color\":{\"field\":\"color\"},\"height\":{\"field\":\"height\",\"units\":\"data\"},\"line_color\":{\"field\":\"line_color\"},\"width\":{\"field\":\"width\",\"units\":\"data\"},\"x\":{\"field\":\"x\"},\"y\":{\"field\":\"y\"}},\"id\":\"b049e469-dbb3-45be-ba34-ee9ff0cca68c\",\"type\":\"Rect\"},{\"attributes\":{\"fill_alpha\":{\"field\":\"fill_alpha\"},\"fill_color\":{\"field\":\"color\"},\"height\":{\"field\":\"height\",\"units\":\"data\"},\"line_color\":{\"field\":\"line_color\"},\"width\":{\"field\":\"width\",\"units\":\"data\"},\"x\":{\"field\":\"x\"},\"y\":{\"field\":\"y\"}},\"id\":\"b43e84ad-aeae-4cab-ae15-8e99cee82df1\",\"type\":\"Rect\"},{\"attributes\":{\"bottom_units\":\"screen\",\"fill_alpha\":{\"value\":0.5},\"fill_color\":{\"value\":\"lightgrey\"},\"left_units\":\"screen\",\"level\":\"overlay\",\"line_alpha\":{\"value\":1.0},\"line_color\":{\"value\":\"black\"},\"line_dash\":[4,4],\"line_width\":{\"value\":2},\"plot\":null,\"render_mode\":\"css\",\"right_units\":\"screen\",\"top_units\":\"screen\"},\"id\":\"cabfe185-0f0f-4d5d-b145-7a7d84786464\",\"type\":\"BoxAnnotation\"},{\"attributes\":{},\"id\":\"02ebf2f9-272f-40b4-aff5-73bafe477170\",\"type\":\"LinearScale\"},{\"attributes\":{\"plot\":{\"id\":\"55f927af-c6c4-41ca-a0ae-cd0b454c8b2c\",\"subtype\":\"Chart\",\"type\":\"Plot\"}},\"id\":\"50efd696-1310-4622-9268-68cb60b1bc87\",\"type\":\"ResetTool\"},{\"attributes\":{\"plot\":{\"id\":\"55f927af-c6c4-41ca-a0ae-cd0b454c8b2c\",\"subtype\":\"Chart\",\"type\":\"Plot\"}},\"id\":\"496a2a6a-9067-4f39-bd8d-54fc87f71346\",\"type\":\"PanTool\"},{\"attributes\":{\"callback\":null,\"column_names\":[\"line_color\",\"line_alpha\",\"color\",\"fill_alpha\",\"height\",\"width\",\"y\",\"x\",\"label\"],\"data\":{\"chart_index\":[\"(2.577500, 3.005000]\"],\"color\":[\"#f22c40\"],\"fill_alpha\":[0.8],\"height\":[4.0],\"label\":[\"(2.577500, 3.005000]\"],\"line_alpha\":[1.0],\"line_color\":[\"black\"],\"width\":[0.4275000000000002],\"x\":[\"2.79125\"],\"y\":[2.0]}},\"id\":\"d9204ea6-dc75-4aea-8fe7-cc37340e5333\",\"type\":\"ColumnDataSource\"},{\"attributes\":{},\"id\":\"9ef69201-73f8-4079-b75f-616c7541f9c3\",\"type\":\"BasicTickFormatter\"},{\"attributes\":{\"plot\":{\"id\":\"55f927af-c6c4-41ca-a0ae-cd0b454c8b2c\",\"subtype\":\"Chart\",\"type\":\"Plot\"}},\"id\":\"21e47542-458a-49b7-96f1-034705b327cb\",\"type\":\"SaveTool\"},{\"attributes\":{},\"id\":\"9760656a-afdd-48e3-b47b-3ea7baa166b0\",\"type\":\"BasicTickFormatter\"},{\"attributes\":{\"data_source\":{\"id\":\"d9204ea6-dc75-4aea-8fe7-cc37340e5333\",\"type\":\"ColumnDataSource\"},\"glyph\":{\"id\":\"b049e469-dbb3-45be-ba34-ee9ff0cca68c\",\"type\":\"Rect\"},\"hover_glyph\":null,\"muted_glyph\":null},\"id\":\"32cf00d4-333b-4900-8d7b-cc9c6014d2c6\",\"type\":\"GlyphRenderer\"},{\"attributes\":{\"plot\":{\"id\":\"55f927af-c6c4-41ca-a0ae-cd0b454c8b2c\",\"subtype\":\"Chart\",\"type\":\"Plot\"}},\"id\":\"6e8c2541-ed00-4c48-897c-9fbab9ec8baa\",\"type\":\"WheelZoomTool\"},{\"attributes\":{\"data_source\":{\"id\":\"178f55a2-ee9e-49b6-90ca-2dac447cfa07\",\"type\":\"ColumnDataSource\"},\"glyph\":{\"id\":\"d1f18ace-6af4-4eda-80a5-02f4ec19dead\",\"type\":\"Rect\"},\"hover_glyph\":null,\"muted_glyph\":null},\"id\":\"75a0c5f0-dd41-4db3-a4e9-bb32c794f7cc\",\"type\":\"GlyphRenderer\"},{\"attributes\":{},\"id\":\"1f83fdfe-1d30-48af-9b57-2e3e94e3af0a\",\"type\":\"ToolEvents\"},{\"attributes\":{\"callback\":null,\"end\":11.0},\"id\":\"0b8a8ab6-4864-4a4d-b8a0-220d829b671b\",\"type\":\"Range1d\"},{\"attributes\":{},\"id\":\"c0846e34-95e9-4555-b6f9-b1541b1247e7\",\"type\":\"BasicTicker\"},{\"attributes\":{\"data_source\":{\"id\":\"b9deaaac-5200-471c-b24b-be0e22ac5a60\",\"type\":\"ColumnDataSource\"},\"glyph\":{\"id\":\"bc958a26-3261-4bab-9ae5-6122641084b7\",\"type\":\"Rect\"},\"hover_glyph\":null,\"muted_glyph\":null},\"id\":\"541b2791-188f-49e3-a9fc-49be2ec5f8e3\",\"type\":\"GlyphRenderer\"},{\"attributes\":{\"fill_alpha\":{\"field\":\"fill_alpha\"},\"fill_color\":{\"field\":\"color\"},\"height\":{\"field\":\"height\",\"units\":\"data\"},\"line_color\":{\"field\":\"line_color\"},\"width\":{\"field\":\"width\",\"units\":\"data\"},\"x\":{\"field\":\"x\"},\"y\":{\"field\":\"y\"}},\"id\":\"bc958a26-3261-4bab-9ae5-6122641084b7\",\"type\":\"Rect\"},{\"attributes\":{\"callback\":null,\"column_names\":[\"line_color\",\"line_alpha\",\"color\",\"fill_alpha\",\"height\",\"width\",\"y\",\"x\",\"label\"],\"data\":{\"chart_index\":[\"(3.005000, 3.432500]\"],\"color\":[\"#f22c40\"],\"fill_alpha\":[0.8],\"height\":[10.0],\"label\":[\"(3.005000, 3.432500]\"],\"line_alpha\":[1.0],\"line_color\":[\"black\"],\"width\":[0.4275000000000002],\"x\":[\"3.21875\"],\"y\":[5.0]}},\"id\":\"f6ea7bc3-8cad-4fb2-bb52-a6a10723f28b\",\"type\":\"ColumnDataSource\"},{\"attributes\":{\"active_drag\":\"auto\",\"active_inspect\":\"auto\",\"active_scroll\":\"auto\",\"active_tap\":\"auto\",\"tools\":[{\"id\":\"496a2a6a-9067-4f39-bd8d-54fc87f71346\",\"type\":\"PanTool\"},{\"id\":\"6e8c2541-ed00-4c48-897c-9fbab9ec8baa\",\"type\":\"WheelZoomTool\"},{\"id\":\"af075ca8-34e3-44fd-9b0a-ce469208da60\",\"type\":\"BoxZoomTool\"},{\"id\":\"21e47542-458a-49b7-96f1-034705b327cb\",\"type\":\"SaveTool\"},{\"id\":\"50efd696-1310-4622-9268-68cb60b1bc87\",\"type\":\"ResetTool\"},{\"id\":\"8694499d-e9b7-4d32-9493-199abea6498e\",\"type\":\"HelpTool\"}]},\"id\":\"8e29ffcc-5985-44c2-bd02-1f75dce6e3f9\",\"type\":\"Toolbar\"},{\"attributes\":{\"plot\":{\"id\":\"55f927af-c6c4-41ca-a0ae-cd0b454c8b2c\",\"subtype\":\"Chart\",\"type\":\"Plot\"}},\"id\":\"8694499d-e9b7-4d32-9493-199abea6498e\",\"type\":\"HelpTool\"},{\"attributes\":{\"data_source\":{\"id\":\"f6ea7bc3-8cad-4fb2-bb52-a6a10723f28b\",\"type\":\"ColumnDataSource\"},\"glyph\":{\"id\":\"b43e84ad-aeae-4cab-ae15-8e99cee82df1\",\"type\":\"Rect\"},\"hover_glyph\":null,\"muted_glyph\":null},\"id\":\"6a2eb37d-d677-4802-b7c3-f80129b1a0d6\",\"type\":\"GlyphRenderer\"},{\"attributes\":{\"dimension\":1,\"plot\":{\"id\":\"55f927af-c6c4-41ca-a0ae-cd0b454c8b2c\",\"subtype\":\"Chart\",\"type\":\"Plot\"},\"ticker\":{\"id\":\"d431bb14-a867-4e3d-843b-62b2f97f7ef1\",\"type\":\"BasicTicker\"}},\"id\":\"ac028f25-bd0a-4a6b-b846-157146628c0d\",\"type\":\"Grid\"},{\"attributes\":{\"callback\":null,\"column_names\":[\"line_color\",\"line_alpha\",\"color\",\"fill_alpha\",\"height\",\"width\",\"y\",\"x\",\"label\"],\"data\":{\"chart_index\":[\"[2.150000, 2.577500]\"],\"color\":[\"#f22c40\"],\"fill_alpha\":[0.8],\"height\":[5.0],\"label\":[\"[2.150000, 2.577500]\"],\"line_alpha\":[1.0],\"line_color\":[\"black\"],\"width\":[0.42749999999999977],\"x\":[\"2.36375\"],\"y\":[2.5]}},\"id\":\"178f55a2-ee9e-49b6-90ca-2dac447cfa07\",\"type\":\"ColumnDataSource\"},{\"attributes\":{\"fill_alpha\":{\"field\":\"fill_alpha\"},\"fill_color\":{\"field\":\"color\"},\"height\":{\"field\":\"height\",\"units\":\"data\"},\"line_color\":{\"field\":\"line_color\"},\"width\":{\"field\":\"width\",\"units\":\"data\"},\"x\":{\"field\":\"x\"},\"y\":{\"field\":\"y\"}},\"id\":\"d1f18ace-6af4-4eda-80a5-02f4ec19dead\",\"type\":\"Rect\"},{\"attributes\":{\"axis_label\":\"gpa\",\"formatter\":{\"id\":\"9760656a-afdd-48e3-b47b-3ea7baa166b0\",\"type\":\"BasicTickFormatter\"},\"plot\":{\"id\":\"55f927af-c6c4-41ca-a0ae-cd0b454c8b2c\",\"subtype\":\"Chart\",\"type\":\"Plot\"},\"ticker\":{\"id\":\"c0846e34-95e9-4555-b6f9-b1541b1247e7\",\"type\":\"BasicTicker\"}},\"id\":\"193351e5-391e-40a6-939b-eb6f52c634cc\",\"type\":\"LinearAxis\"},{\"attributes\":{\"callback\":null,\"end\":4.01025,\"start\":1.9997500000000004},\"id\":\"a47c7800-d587-4f14-9adf-33e3e22499e1\",\"type\":\"Range1d\"},{\"attributes\":{\"location\":\"top_left\",\"plot\":{\"id\":\"55f927af-c6c4-41ca-a0ae-cd0b454c8b2c\",\"subtype\":\"Chart\",\"type\":\"Plot\"}},\"id\":\"48b1fc2a-9f64-49e3-988a-453037309a3c\",\"type\":\"Legend\"},{\"attributes\":{\"below\":[{\"id\":\"193351e5-391e-40a6-939b-eb6f52c634cc\",\"type\":\"LinearAxis\"}],\"css_classes\":null,\"left\":[{\"id\":\"fe591c69-ece2-43ec-ba2a-e3ed56c927e8\",\"type\":\"LinearAxis\"}],\"renderers\":[{\"id\":\"cabfe185-0f0f-4d5d-b145-7a7d84786464\",\"type\":\"BoxAnnotation\"},{\"id\":\"75a0c5f0-dd41-4db3-a4e9-bb32c794f7cc\",\"type\":\"GlyphRenderer\"},{\"id\":\"32cf00d4-333b-4900-8d7b-cc9c6014d2c6\",\"type\":\"GlyphRenderer\"},{\"id\":\"6a2eb37d-d677-4802-b7c3-f80129b1a0d6\",\"type\":\"GlyphRenderer\"},{\"id\":\"541b2791-188f-49e3-a9fc-49be2ec5f8e3\",\"type\":\"GlyphRenderer\"},{\"id\":\"48b1fc2a-9f64-49e3-988a-453037309a3c\",\"type\":\"Legend\"},{\"id\":\"193351e5-391e-40a6-939b-eb6f52c634cc\",\"type\":\"LinearAxis\"},{\"id\":\"fe591c69-ece2-43ec-ba2a-e3ed56c927e8\",\"type\":\"LinearAxis\"},{\"id\":\"ac028f25-bd0a-4a6b-b846-157146628c0d\",\"type\":\"Grid\"}],\"title\":{\"id\":\"ace7abed-9dbc-4554-a62a-8f9a44c73bfb\",\"type\":\"Title\"},\"tool_events\":{\"id\":\"1f83fdfe-1d30-48af-9b57-2e3e94e3af0a\",\"type\":\"ToolEvents\"},\"toolbar\":{\"id\":\"8e29ffcc-5985-44c2-bd02-1f75dce6e3f9\",\"type\":\"Toolbar\"},\"x_range\":{\"id\":\"a47c7800-d587-4f14-9adf-33e3e22499e1\",\"type\":\"Range1d\"},\"x_scale\":{\"id\":\"9fa584e4-9bc5-43a9-b50d-7abfa7dc3270\",\"type\":\"LinearScale\"},\"y_range\":{\"id\":\"0b8a8ab6-4864-4a4d-b8a0-220d829b671b\",\"type\":\"Range1d\"},\"y_scale\":{\"id\":\"02ebf2f9-272f-40b4-aff5-73bafe477170\",\"type\":\"LinearScale\"}},\"id\":\"55f927af-c6c4-41ca-a0ae-cd0b454c8b2c\",\"subtype\":\"Chart\",\"type\":\"Plot\"},{\"attributes\":{\"overlay\":{\"id\":\"cabfe185-0f0f-4d5d-b145-7a7d84786464\",\"type\":\"BoxAnnotation\"},\"plot\":{\"id\":\"55f927af-c6c4-41ca-a0ae-cd0b454c8b2c\",\"subtype\":\"Chart\",\"type\":\"Plot\"}},\"id\":\"af075ca8-34e3-44fd-9b0a-ce469208da60\",\"type\":\"BoxZoomTool\"},{\"attributes\":{\"callback\":null,\"column_names\":[\"line_color\",\"line_alpha\",\"color\",\"fill_alpha\",\"height\",\"width\",\"y\",\"x\",\"label\"],\"data\":{\"chart_index\":[\"(3.432500, 3.860000]\"],\"color\":[\"#f22c40\"],\"fill_alpha\":[0.8],\"height\":[9.0],\"label\":[\"(3.432500, 3.860000]\"],\"line_alpha\":[1.0],\"line_color\":[\"black\"],\"width\":[0.42749999999999977],\"x\":[\"3.64625\"],\"y\":[4.5]}},\"id\":\"b9deaaac-5200-471c-b24b-be0e22ac5a60\",\"type\":\"ColumnDataSource\"},{\"attributes\":{\"axis_label\":\"Count( Gpa )\",\"formatter\":{\"id\":\"9ef69201-73f8-4079-b75f-616c7541f9c3\",\"type\":\"BasicTickFormatter\"},\"plot\":{\"id\":\"55f927af-c6c4-41ca-a0ae-cd0b454c8b2c\",\"subtype\":\"Chart\",\"type\":\"Plot\"},\"ticker\":{\"id\":\"d431bb14-a867-4e3d-843b-62b2f97f7ef1\",\"type\":\"BasicTicker\"}},\"id\":\"fe591c69-ece2-43ec-ba2a-e3ed56c927e8\",\"type\":\"LinearAxis\"},{\"attributes\":{\"plot\":null,\"text\":\"Histograma de GPA\"},\"id\":\"ace7abed-9dbc-4554-a62a-8f9a44c73bfb\",\"type\":\"Title\"},{\"attributes\":{},\"id\":\"9fa584e4-9bc5-43a9-b50d-7abfa7dc3270\",\"type\":\"LinearScale\"},{\"attributes\":{},\"id\":\"d431bb14-a867-4e3d-843b-62b2f97f7ef1\",\"type\":\"BasicTicker\"}],\"root_ids\":[\"55f927af-c6c4-41ca-a0ae-cd0b454c8b2c\"]},\"title\":\"Bokeh Application\",\"version\":\"0.12.6\"}};\n",
       "            var render_items = [{\"docid\":\"f67c258f-02e1-4c2f-bf7e-78810379b415\",\"elementid\":\"2a0fc689-690c-4c43-8128-ea8b630768c6\",\"modelid\":\"55f927af-c6c4-41ca-a0ae-cd0b454c8b2c\"}];\n",
       "            \n",
       "            Bokeh.embed.embed_items(docs_json, render_items);\n",
       "          };\n",
       "          if (document.readyState != \"loading\") fn();\n",
       "          else document.addEventListener(\"DOMContentLoaded\", fn);\n",
       "        })();\n",
       "      },\n",
       "      function(Bokeh) {\n",
       "      }\n",
       "    ];\n",
       "  \n",
       "    function run_inline_js() {\n",
       "      \n",
       "      if ((window.Bokeh !== undefined) || (force === true)) {\n",
       "        for (var i = 0; i < inline_js.length; i++) {\n",
       "          inline_js[i](window.Bokeh);\n",
       "        }if (force === true) {\n",
       "          display_loaded();\n",
       "        }} else if (Date.now() < window._bokeh_timeout) {\n",
       "        setTimeout(run_inline_js, 100);\n",
       "      } else if (!window._bokeh_failed_load) {\n",
       "        console.log(\"Bokeh: BokehJS failed to load within specified timeout.\");\n",
       "        window._bokeh_failed_load = true;\n",
       "      } else if (force !== true) {\n",
       "        var cell = $(document.getElementById(\"2a0fc689-690c-4c43-8128-ea8b630768c6\")).parents('.cell').data().cell;\n",
       "        cell.output_area.append_execute_result(NB_LOAD_WARNING)\n",
       "      }\n",
       "  \n",
       "    }\n",
       "  \n",
       "    if (window._bokeh_is_loading === 0) {\n",
       "      console.log(\"Bokeh: BokehJS loaded, going straight to plotting\");\n",
       "      run_inline_js();\n",
       "    } else {\n",
       "      load_libs(js_urls, function() {\n",
       "        console.log(\"Bokeh: BokehJS plotting callback run at\", now());\n",
       "        run_inline_js();\n",
       "      });\n",
       "    }\n",
       "  }(this));\n",
       "</script>"
      ]
     },
     "metadata": {},
     "output_type": "display_data"
    }
   ],
   "source": [
    "#haciendo el histograma con Bokeh\n",
    "from bokeh.charts import Histogram\n",
    "from bokeh.charts import defaults, show\n",
    "from bokeh.io import output_notebook\n",
    "\n",
    "# input options\n",
    "output_notebook()\n",
    "hist = Histogram(datos1['gpa'], title=\"Histograma de GPA\")\n",
    "\n",
    "show(hist)"
   ]
  },
  {
   "cell_type": "code",
   "execution_count": null,
   "metadata": {
    "collapsed": true
   },
   "outputs": [],
   "source": []
  }
 ],
 "metadata": {
  "kernelspec": {
   "display_name": "Python 2",
   "language": "python",
   "name": "python2"
  },
  "language_info": {
   "codemirror_mode": {
    "name": "ipython",
    "version": 2
   },
   "file_extension": ".py",
   "mimetype": "text/x-python",
   "name": "python",
   "nbconvert_exporter": "python",
   "pygments_lexer": "ipython2",
   "version": "2.7.13"
  }
 },
 "nbformat": 4,
 "nbformat_minor": 2
}
